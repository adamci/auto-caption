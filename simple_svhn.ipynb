{
 "cells": [
  {
   "cell_type": "markdown",
   "metadata": {
    "collapsed": true
   },
   "source": [
    "# SVHN from Scratch using TensorFlow"
   ]
  },
  {
   "cell_type": "markdown",
   "metadata": {},
   "source": [
    "The goal of this notebook is to take what I've learned from the [Udacity Deep Learning course](https://www.udacity.com/course/deep-learning--ud730) and apply it to training an algorithm that can perform image to text translation on the [Stanford Street View House Numbers (SVHN) Dataset](http://ufldl.stanford.edu/housenumbers/), successfully recognizing street address numbers in real-world images.\n",
    "\n",
    "Because I've recently gotten very excited about LSTMs, I'll be attempting to complete this task by connecting the output of a convolutional net to an RNN decoder."
   ]
  },
  {
   "cell_type": "code",
   "execution_count": 52,
   "metadata": {
    "collapsed": true
   },
   "outputs": [],
   "source": [
    "import os\n",
    "import sys\n",
    "import numpy\n",
    "import scipy.io\n",
    "import gzip\n",
    "import tarfile\n",
    "import h5py\n",
    "from PIL import Image\n",
    "import six.moves.cPickle as pickle\n",
    "from six.moves import urllib\n",
    "import shutil\n",
    "import matplotlib.pyplot as plt\n",
    "%matplotlib inline"
   ]
  },
  {
   "cell_type": "markdown",
   "metadata": {},
   "source": [
    "Many thanks to Imad Ali who gave a [great example](https://github.com/imadmali/svhn-format1) of how to preprocess this dataset using Python's `h5py` library. The next few cells are adapted from his work."
   ]
  },
  {
   "cell_type": "code",
   "execution_count": 5,
   "metadata": {},
   "outputs": [
    {
     "name": "stdout",
     "output_type": "stream",
     "text": [
      "Downloading data from http://ufldl.stanford.edu/housenumbers/train.tar.gz\n",
      "Downloading data from http://ufldl.stanford.edu/housenumbers/test.tar.gz\n"
     ]
    }
   ],
   "source": [
    "data_dir = '../data'\n",
    "\n",
    "# Download the SVHN dataset if it is not present\n",
    "def check_dataset(dataset):\n",
    "    # Check if dataset is in the data directory.\n",
    "    new_path = os.path.join(data_dir, dataset)\n",
    "    if (not os.path.isdir(data_dir)):\n",
    "        os.mkdir(data_dir)\n",
    "    if (not os.path.isfile(new_path)):\n",
    "        origin = ('http://ufldl.stanford.edu/housenumbers/' + dataset)\n",
    "        print('Downloading data from %s' % origin)\n",
    "        urllib.request.urlretrieve(origin, new_path)\n",
    "    return new_path\n",
    "\n",
    "train_dataset = check_dataset('train.tar.gz')\n",
    "test_dataset = check_dataset('test.tar.gz')"
   ]
  },
  {
   "cell_type": "code",
   "execution_count": 40,
   "metadata": {
    "collapsed": true
   },
   "outputs": [],
   "source": [
    "def format_data(dataset):\n",
    "    print '... processing data (should only occur when downloading for the first time)'\n",
    "    # Unzip data from scratch\n",
    "    data_type = os.path.splitext(os.path.splitext(dataset)[0])[0]\n",
    "    unzipped_path = os.path.join(data_dir, data_type)\n",
    "    if os.path.exists(unzipped_path):\n",
    "        shutil.rmtree(unzipped_path)\n",
    "    tar = tarfile.open(os.path.join(data_dir, dataset), 'r:gz')\n",
    "    tar.extractall(data_dir)\n",
    "\n",
    "    # Access label information in digitStruct.mat\n",
    "    f = h5py.File(os.path.join(data_dir, data_type, 'digitStruct.mat'), 'r')\n",
    "    digit_struct_name = f['digitStruct']['name']\n",
    "    digit_struct_bbox = f['digitStruct']['bbox']\n",
    "\n",
    "    def getName(n):\n",
    "        return ''.join([chr(c[0]) for c in f[digit_struct_name[n][0]].value])\n",
    "\n",
    "    def bboxHelper(attr):\n",
    "        if (len(attr) > 1):\n",
    "            attr = [f[attr.value[j].item()].value[0][0] for j in range(len(attr))]\n",
    "        else:\n",
    "            attr = [attr.value[0][0]]\n",
    "        return attr\n",
    "\n",
    "    def getBbox(n):\n",
    "        bbox = {}\n",
    "        bb = digit_struct_bbox[n].item()\n",
    "        bbox['height'] = bboxHelper(f[bb][\"height\"])\n",
    "        bbox['label'] = bboxHelper(f[bb][\"label\"])\n",
    "        bbox['left'] = bboxHelper(f[bb][\"left\"])\n",
    "        bbox['top'] = bboxHelper(f[bb][\"top\"])\n",
    "        bbox['width'] = bboxHelper(f[bb][\"width\"])\n",
    "        return bbox\n",
    "\n",
    "    # Process bbox\n",
    "    print '... creating image box bound dict for %s data' % data_type\n",
    "    image_dict = {}\n",
    "    for i in range(len(digit_struct_name)):\n",
    "        image_dict[getName(i)] = getBbox(i)\n",
    "        if (i % 2000 == 0):\n",
    "            print '\\timage dict processing: %i/%i complete' %(i, len(digit_struct_name))\n",
    "    print '... dict processing complete'\n",
    "\n",
    "    # Process the data\n",
    "    print('... processing image data and labels')\n",
    "    names = [item for item in os.listdir(unzipped_path) if item.endswith('.png')]\n",
    "\n",
    "    x, y = [], []\n",
    "    for i in range(len(names)):\n",
    "        y.append(image_dict[names[i]]['label'])\n",
    "        image = Image.open(unzipped_path + '/' + names[i])\n",
    "        # Calculate the total bounding box from the exterior corners of all bounding boxes\n",
    "        left = int(min(image_dict[names[i]]['left']))\n",
    "        upper = int(min(image_dict[names[i]]['top']))\n",
    "        right = int(max(image_dict[names[i]]['left'])) + int(max(image_dict[names[i]]['width']))\n",
    "        lower = int(max(image_dict[names[i]]['top'])) + int(max(image_dict[names[i]]['height']))\n",
    "        image = image.crop(box = (left, upper, right, lower))\n",
    "        image = image.resize([32,32])\n",
    "        image_array = numpy.array(image)\n",
    "        # Normalize mean and standard deviation\n",
    "        image_array = (image_array - 255. / 2) / 255.\n",
    "        x.append(image_array)\n",
    "        if (i % 2000 == 0):\n",
    "            print '\\timage processing: %i/%i complete' %(i,len(names))\n",
    "    print '... image processing complete'\n",
    "\n",
    "    # Save data\n",
    "    print '... pickling data'\n",
    "    out = {'labels': y, 'images': x}\n",
    "    out_path = os.path.join(data_dir, data_type + 'pkl.gz')\n",
    "    p = gzip.open(out_path, 'wb')\n",
    "    pickle.dump(out, p)\n",
    "    p.close()\n",
    "\n",
    "    tar.close()\n",
    "    \n",
    "    # clean up (delete test/train folders that were used to create the pickled data)\n",
    "    shutil.rmtree(unzipped_path)"
   ]
  },
  {
   "cell_type": "markdown",
   "metadata": {},
   "source": [
    "Only format the data if the processed pickle files don't exist."
   ]
  },
  {
   "cell_type": "code",
   "execution_count": 44,
   "metadata": {},
   "outputs": [],
   "source": [
    "if (not os.path.isfile(os.path.join(data_dir, 'trainpkl.gz'))):\n",
    "    format_data('train.tar.gz')\n",
    "\n",
    "f_train = gzip.open(os.path.join(data_dir, 'trainpkl.gz'), 'rb')\n",
    "train_data = pickle.load(f_train)\n",
    "f_train.close()\n",
    "\n",
    "if (not os.path.isfile(os.path.join(data_dir, 'testpkl.gz'))):\n",
    "    format_data('test.tar.gz')\n",
    "\n",
    "f_test = gzip.open(os.path.join(data_dir, 'testpkl.gz'), 'rb')\n",
    "test_data = pickle.load(f_test)\n",
    "f_test.close()"
   ]
  },
  {
   "cell_type": "code",
   "execution_count": 45,
   "metadata": {},
   "outputs": [],
   "source": [
    "# Convert data format\n",
    "def convert_data_format(data):\n",
    "    images = data.pop('images')\n",
    "    images = numpy.array(images)\n",
    "    images = numpy.rollaxis(images, 0, 4)\n",
    "    X = numpy.reshape(images,\n",
    "                      (numpy.prod(images.shape[:-1]), images.shape[-1]),\n",
    "                      order='C').T\n",
    "\n",
    "    labels = data.pop('labels')\n",
    "    for i in range(len(labels)):\n",
    "        l = len(labels[i])-1\n",
    "        zeros = numpy.zeros(6-l-1).tolist()\n",
    "        labels[i].extend(zeros)\n",
    "    y = numpy.array(labels)\n",
    "    \n",
    "    return (X,y)\n",
    "\n",
    "train_set = convert_data_format(train_data)\n",
    "train_set_len = len(train_set[1])\n",
    "\n",
    "# Extract validation dataset from train dataset (10% of the train_set)\n",
    "valid_set = [x[-(train_set_len//10):] for x in train_set]\n",
    "train_set = [x[:-(train_set_len//10)] for x in train_set]\n",
    "test_set = convert_data_format(test_data)"
   ]
  },
  {
   "cell_type": "markdown",
   "metadata": {},
   "source": [
    "`train_set`, `valid_set`, and `test_set` each contain a list `['flattened image', 'label']`.\n",
    "* `'flattened image'` is a 2D numpy array where each row corresponds to a 32x32x3 image.\n",
    "* `'label'` is a 2D numpy array where each row is a house number and each element of that row is a digit. The rows are\n",
    "  padded at a length of 6 digits where the number `0` represents the padding, and the number `10` represents the\n",
    "  digit `0`."
   ]
  },
  {
   "cell_type": "markdown",
   "metadata": {},
   "source": [
    "As a sanity check, let's display an image from the test set. The image will look odd because of the mean and standard deviation normalization we did in the `format_data()` method."
   ]
  },
  {
   "cell_type": "code",
   "execution_count": 57,
   "metadata": {
    "scrolled": true
   },
   "outputs": [
    {
     "name": "stdout",
     "output_type": "stream",
     "text": [
      "[  2.  10.  10.   0.   0.   0.]\n"
     ]
    },
    {
     "data": {
      "image/png": "[encoded data removed]",
      "text/plain": [
       "<matplotlib.figure.Figure at 0x7f2ebac43090>"
      ]
     },
     "metadata": {},
     "output_type": "display_data"
    }
   ],
   "source": [
    "data_index = 994\n",
    "img = numpy.reshape(test_set[0][data_index], (32,32,3))\n",
    "plt.imshow(img)\n",
    "print(test_set[1][data_index])"
   ]
  }
 ],
 "metadata": {
  "kernelspec": {
   "display_name": "Python 2",
   "language": "python",
   "name": "python2"
  },
  "language_info": {
   "codemirror_mode": {
    "name": "ipython",
    "version": 2
   },
   "file_extension": ".py",
   "mimetype": "text/x-python",
   "name": "python",
   "nbconvert_exporter": "python",
   "pygments_lexer": "ipython2",
   "version": "2.7.12"
  }
 },
 "nbformat": 4,
 "nbformat_minor": 2
}
