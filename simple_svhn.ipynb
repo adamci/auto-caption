{
 "cells": [
  {
   "cell_type": "markdown",
   "metadata": {
    "collapsed": true
   },
   "source": [
    "# CRNN from scratch using TensorFlow"
   ]
  },
  {
   "cell_type": "markdown",
   "metadata": {},
   "source": [
    "The goal of this notebook is to take what I've learned from the [Udacity Deep Learning course](https://www.udacity.com/course/deep-learning--ud730) and apply it to training an algorithm that can perform image to text translation on the [Stanford Street View House Numbers (SVHN) Dataset](http://ufldl.stanford.edu/housenumbers/), successfully recognizing street address numbers in real-world images.\n",
    "\n",
    "Because I've recently gotten very excited about LSTMs, I'll be attempting this task using a [CRNN](https://arxiv.org/pdf/1507.05717.pdf), connecting the output of a convolutional net to an RNN decoder."
   ]
  },
  {
   "cell_type": "code",
   "execution_count": 4,
   "metadata": {
    "collapsed": true
   },
   "outputs": [],
   "source": [
    "import os\n",
    "import sys\n",
    "from __future__ import print_function\n",
    "import random\n",
    "import numpy as np\n",
    "import tensorflow as tf\n",
    "import scipy.io\n",
    "import gzip\n",
    "import tarfile\n",
    "import h5py\n",
    "from PIL import Image\n",
    "import six.moves.cPickle as pickle\n",
    "from six.moves import urllib\n",
    "import shutil\n",
    "import matplotlib.pyplot as plt\n",
    "%matplotlib inline"
   ]
  },
  {
   "cell_type": "markdown",
   "metadata": {},
   "source": [
    "### Data Prep"
   ]
  },
  {
   "cell_type": "markdown",
   "metadata": {},
   "source": [
    "Many thanks to Imad Ali who gave a [great example](https://github.com/imadmali/svhn-format1) of how to preprocess this dataset using Python's `h5py` library. The next few cells are adapted from his work."
   ]
  },
  {
   "cell_type": "code",
   "execution_count": 5,
   "metadata": {},
   "outputs": [
    {
     "name": "stdout",
     "output_type": "stream",
     "text": [
      "../data/train.tar.gz\n",
      "../data/test.tar.gz\n"
     ]
    }
   ],
   "source": [
    "data_dir = '../data'\n",
    "\n",
    "# Download the SVHN dataset if it is not present\n",
    "def check_dataset(dataset):\n",
    "    # Check if dataset is in the data directory.\n",
    "    new_path = os.path.join(data_dir, dataset)\n",
    "    if (not os.path.isdir(data_dir)):\n",
    "        os.mkdir(data_dir)\n",
    "    if (not os.path.isfile(new_path)):\n",
    "        origin = ('http://ufldl.stanford.edu/housenumbers/' + dataset)\n",
    "        print('Downloading data from %s' % origin)\n",
    "        urllib.request.urlretrieve(origin, new_path)\n",
    "    return new_path\n",
    "\n",
    "print(check_dataset('train.tar.gz'))\n",
    "print(check_dataset('test.tar.gz'))"
   ]
  },
  {
   "cell_type": "code",
   "execution_count": 7,
   "metadata": {},
   "outputs": [],
   "source": [
    "image_size = 32\n",
    "num_channels = 3\n",
    "\n",
    "def format_data(dataset):\n",
    "    print('... processing data (should only occur when downloading for the first time)')\n",
    "    # Unzip data from scratch\n",
    "    data_type = os.path.splitext(os.path.splitext(dataset)[0])[0]\n",
    "    unzipped_path = os.path.join(data_dir, data_type)\n",
    "    if os.path.exists(unzipped_path):\n",
    "        shutil.rmtree(unzipped_path)\n",
    "    tar = tarfile.open(os.path.join(data_dir, dataset), 'r:gz')\n",
    "    tar.extractall(data_dir)\n",
    "\n",
    "    # Access label information in digitStruct.mat\n",
    "    f = h5py.File(os.path.join(data_dir, data_type, 'digitStruct.mat'), 'r')\n",
    "    digit_struct_name = f['digitStruct']['name']\n",
    "    digit_struct_bbox = f['digitStruct']['bbox']\n",
    "\n",
    "    def getName(n):\n",
    "        return ''.join([chr(c[0]) for c in f[digit_struct_name[n][0]].value])\n",
    "\n",
    "    def bboxHelper(attr):\n",
    "        if (len(attr) > 1):\n",
    "            attr = [f[attr.value[j].item()].value[0][0] for j in range(len(attr))]\n",
    "        else:\n",
    "            attr = [attr.value[0][0]]\n",
    "        return attr\n",
    "\n",
    "    def getBbox(n):\n",
    "        bbox = {}\n",
    "        bb = digit_struct_bbox[n].item()\n",
    "        bbox['height'] = bboxHelper(f[bb][\"height\"])\n",
    "        bbox['label'] = bboxHelper(f[bb][\"label\"])\n",
    "        bbox['left'] = bboxHelper(f[bb][\"left\"])\n",
    "        bbox['top'] = bboxHelper(f[bb][\"top\"])\n",
    "        bbox['width'] = bboxHelper(f[bb][\"width\"])\n",
    "        return bbox\n",
    "\n",
    "    # Process bbox\n",
    "    print('... creating image box bound dict for %s data' % data_type)\n",
    "    image_dict = {}\n",
    "    for i in range(len(digit_struct_name)):\n",
    "        image_dict[getName(i)] = getBbox(i)\n",
    "        if (i % 2000 == 0):\n",
    "            print('\\timage dict processing: %i/%i complete' % (i, len(digit_struct_name)))\n",
    "    print('... dict processing complete')\n",
    "\n",
    "    # Process the data\n",
    "    print('... processing image data and labels')\n",
    "    names = [item for item in os.listdir(unzipped_path) if item.endswith('.png')]\n",
    "\n",
    "    x, y = [], []\n",
    "    for i in range(len(names)):\n",
    "        y.append(image_dict[names[i]]['label'])\n",
    "        image = Image.open(unzipped_path + '/' + names[i])\n",
    "        # Calculate the total bounding box from the exterior corners of all bounding boxes\n",
    "        left = int(min(image_dict[names[i]]['left']))\n",
    "        upper = int(min(image_dict[names[i]]['top']))\n",
    "        right = int(max(image_dict[names[i]]['left'])) + int(max(image_dict[names[i]]['width']))\n",
    "        lower = int(max(image_dict[names[i]]['top'])) + int(max(image_dict[names[i]]['height']))\n",
    "        image = image.crop(box = (left, upper, right, lower))\n",
    "        image = image.resize([image_size, image_size])\n",
    "        image_array = np.array(image)\n",
    "        # Normalize mean and standard deviation\n",
    "        image_array = (image_array - 255. / 2) / 255.\n",
    "        x.append(image_array)\n",
    "        if (i % 2000 == 0):\n",
    "            print('\\timage processing: %i/%i complete' % (i, len(names)))\n",
    "    print('... image processing complete')\n",
    "\n",
    "    # Save data\n",
    "    print('... pickling data')\n",
    "    out = {'labels': y, 'images': x}\n",
    "    out_path = os.path.join(data_dir, data_type + 'pkl.gz')\n",
    "    p = gzip.open(out_path, 'wb')\n",
    "    pickle.dump(out, p)\n",
    "    p.close()\n",
    "\n",
    "    tar.close()\n",
    "    \n",
    "    # clean up (delete test/train folders that were used to create the pickled data)\n",
    "    shutil.rmtree(unzipped_path)"
   ]
  },
  {
   "cell_type": "markdown",
   "metadata": {},
   "source": [
    "Only format the data if the processed pickle files don't exist."
   ]
  },
  {
   "cell_type": "code",
   "execution_count": 8,
   "metadata": {
    "collapsed": true
   },
   "outputs": [],
   "source": [
    "if (not os.path.isfile(os.path.join(data_dir, 'trainpkl.gz'))):\n",
    "    format_data('train.tar.gz')\n",
    "\n",
    "f_train = gzip.open(os.path.join(data_dir, 'trainpkl.gz'), 'rb')\n",
    "train_data = pickle.load(f_train)\n",
    "f_train.close()\n",
    "\n",
    "if (not os.path.isfile(os.path.join(data_dir, 'testpkl.gz'))):\n",
    "    format_data('test.tar.gz')\n",
    "\n",
    "f_test = gzip.open(os.path.join(data_dir, 'testpkl.gz'), 'rb')\n",
    "test_data = pickle.load(f_test)\n",
    "f_test.close()"
   ]
  },
  {
   "cell_type": "code",
   "execution_count": 9,
   "metadata": {
    "collapsed": true
   },
   "outputs": [],
   "source": [
    "label_length = 6\n",
    "\n",
    "# Convert data format\n",
    "def convert_data_format(data):\n",
    "    images = data.pop('images')\n",
    "    X = np.array(images)\n",
    "\n",
    "    labels = data.pop('labels')\n",
    "    for i in range(len(labels)):\n",
    "        l = len(labels[i])-1\n",
    "        zeros = np.zeros(label_length - l - 1).tolist()\n",
    "        labels[i].extend(zeros)\n",
    "    y = np.array(labels)\n",
    "    \n",
    "    return (X,y)\n",
    "\n",
    "train_set = convert_data_format(train_data)\n",
    "train_set_len = len(train_set[1])\n",
    "\n",
    "# Extract validation dataset from train dataset (10% of the train_set)\n",
    "valid_set = [x[-(train_set_len//10):] for x in train_set]\n",
    "train_set = [x[:-(train_set_len//10)] for x in train_set]\n",
    "test_set = convert_data_format(test_data)"
   ]
  },
  {
   "cell_type": "markdown",
   "metadata": {},
   "source": [
    "`train_set`, `valid_set`, and `test_set` each contain a list `['images', 'labels']`.\n",
    "* `'images'` is a 4D numpy array of dimensions num_images x height x width x channels (RGB)\n",
    "* `'labels'` is a 2D numpy array where each row is a house number and each element of that row is a digit. The rows\n",
    "  are padded at a length of 6 digits where the number `0` represents the padding, and the number `10` represents the\n",
    "  digit `0`."
   ]
  },
  {
   "cell_type": "code",
   "execution_count": 10,
   "metadata": {},
   "outputs": [
    {
     "name": "stdout",
     "output_type": "stream",
     "text": [
      "(30062, 32, 32, 3) (30062, 6)\n",
      "(3340, 32, 32, 3) (3340, 6)\n",
      "(13068, 32, 32, 3) (13068, 6)\n"
     ]
    }
   ],
   "source": [
    "print(train_set[0].shape, train_set[1].shape)\n",
    "print(valid_set[0].shape, valid_set[1].shape)\n",
    "print(test_set[0].shape, test_set[1].shape)"
   ]
  },
  {
   "cell_type": "markdown",
   "metadata": {},
   "source": [
    "As a sanity check, let's display an image from the test set. The image will look odd because of the mean and standard deviation normalization we did in the `format_data()` method."
   ]
  },
  {
   "cell_type": "code",
   "execution_count": 11,
   "metadata": {
    "scrolled": true
   },
   "outputs": [
    {
     "name": "stdout",
     "output_type": "stream",
     "text": [
      "[  2.  10.  10.   0.   0.   0.]\n"
     ]
    },
    {
     "data": {
      "image/png": "[encoded data removed]",
      "text/plain": [
       "<matplotlib.figure.Figure at 0x7f993f1ca890>"
      ]
     },
     "metadata": {},
     "output_type": "display_data"
    }
   ],
   "source": [
    "data_index = 994\n",
    "plt.imshow(test_set[0][data_index])\n",
    "print(test_set[1][data_index])"
   ]
  },
  {
   "cell_type": "markdown",
   "metadata": {},
   "source": [
    "From these datasets, we need to build batches that can be read by convolutional and LSTM layers."
   ]
  },
  {
   "cell_type": "code",
   "execution_count": 12,
   "metadata": {
    "collapsed": true
   },
   "outputs": [],
   "source": [
    "batch_size = 16\n",
    "vocabulary_size = 12 # buffer, digits 1-9, 0 digit, and a GO token for the lstm, in that order\n",
    "\n",
    "class BatchGenerator(object):\n",
    "  def __init__(self, data_set, batch_size):\n",
    "    self._images = data_set[0]\n",
    "    self._labels = data_set[1]\n",
    "    self._dataset_size = data_set[1].shape[0]\n",
    "    self._label_size = data_set[1].shape[1]\n",
    "    self._batch_size = batch_size\n",
    "    self._cursor = 0\n",
    "  \n",
    "  def next(self):\n",
    "    \"\"\"Generate a single batch from the current cursor position in the data.\"\"\"\n",
    "    image_batch = []\n",
    "    for b in range(self._batch_size):\n",
    "        cursor = (self._cursor + b) % self._dataset_size\n",
    "        image_batch.append(self._images[cursor])\n",
    "    label_batch = []\n",
    "    for i in range(self._label_size):\n",
    "        batch = np.zeros(shape=(self._batch_size, vocabulary_size), dtype=np.float64)\n",
    "        for b in range(self._batch_size):\n",
    "            cursor = (self._cursor + b) % self._dataset_size\n",
    "            batch[b, int(self._labels[cursor][i])] = 1.0\n",
    "        label_batch.append(batch)\n",
    "    self._cursor = (self._cursor + self._label_size) % self._dataset_size\n",
    "    return [np.array(image_batch), label_batch]"
   ]
  },
  {
   "cell_type": "code",
   "execution_count": 13,
   "metadata": {},
   "outputs": [
    {
     "name": "stdout",
     "output_type": "stream",
     "text": [
      "(16, 32, 32, 3) 6 (16, 12)\n"
     ]
    }
   ],
   "source": [
    "test_batches = BatchGenerator(test_set, batch_size)\n",
    "batch = test_batches.next()\n",
    "print(batch[0].shape, len(batch[1]), batch[1][0].shape)"
   ]
  },
  {
   "cell_type": "markdown",
   "metadata": {},
   "source": [
    "### Building the Computation Graph and Training"
   ]
  },
  {
   "cell_type": "markdown",
   "metadata": {},
   "source": [
    "The following are a couple of utility functions to make it easier to print training outputs:"
   ]
  },
  {
   "cell_type": "code",
   "execution_count": 14,
   "metadata": {
    "collapsed": true
   },
   "outputs": [],
   "source": [
    "def logprob(predictions, labels):\n",
    "  \"\"\"Log-probability of the true labels in a predicted batch.\"\"\"\n",
    "  predictions[predictions < 1e-10] = 1e-10\n",
    "  return np.sum(np.multiply(labels, -np.log(predictions))) / labels.shape[0]\n",
    "\n",
    "def sample_distribution(distribution):\n",
    "  \"\"\"Sample one element from a distribution assumed to be an array of normalized\n",
    "  probabilities.\n",
    "  \"\"\"\n",
    "  r = random.uniform(0, 1)\n",
    "  s = 0\n",
    "  for i in range(len(distribution)):\n",
    "    s += distribution[i]\n",
    "    if s >= r:\n",
    "      return i\n",
    "  return len(distribution) - 1"
   ]
  },
  {
   "cell_type": "markdown",
   "metadata": {},
   "source": [
    "Now let's build the model: first, the convolutional layer, and then the (slightly simplified) LSTM cell.\n",
    "Notice that the output of an LSTM cell is used as the input of the subsequent cell intead of using the correct label as the input, a competing architecture."
   ]
  },
  {
   "cell_type": "code",
   "execution_count": 15,
   "metadata": {
    "collapsed": true
   },
   "outputs": [],
   "source": [
    "conv_patch_size = 5\n",
    "conv_depth = 16\n",
    "conv_num_hidden = 64\n",
    "lstm_num_nodes = 64\n",
    "\n",
    "graph = tf.Graph()\n",
    "\n",
    "with graph.as_default():\n",
    "    # Input data.\n",
    "    train_dataset = tf.placeholder(\n",
    "        tf.float32, shape=(batch_size, image_size, image_size, num_channels))\n",
    "    valid_dataset = tf.placeholder(\n",
    "        tf.float32, shape=(batch_size, image_size, image_size, num_channels))\n",
    "    go_token = tf.constant(\n",
    "        np.c_[np.zeros((batch_size, vocabulary_size-1)), np.ones(batch_size)], dtype=tf.float32)\n",
    "\n",
    "    # Label data to be used as outputs\n",
    "    train_labels = list()\n",
    "    for _ in range(label_length):\n",
    "        train_labels.append(tf.placeholder(tf.float32, shape=[batch_size,vocabulary_size]))\n",
    "    valid_labels = list()\n",
    "    for _ in range(label_length):\n",
    "        valid_labels.append(tf.placeholder(tf.float32, shape=[batch_size,vocabulary_size]))\n",
    "    \n",
    "    # CNN variables\n",
    "    layer1_weights = tf.Variable(tf.truncated_normal(\n",
    "        [conv_patch_size, conv_patch_size, num_channels, conv_depth], stddev=0.1))\n",
    "    layer1_biases = tf.Variable(tf.zeros([conv_depth]))\n",
    "    layer2_weights = tf.Variable(tf.truncated_normal(\n",
    "        [conv_patch_size, conv_patch_size, conv_depth, conv_depth], stddev=0.1))\n",
    "    layer2_biases = tf.Variable(tf.constant(1.0, shape=[conv_depth]))\n",
    "    layer3_weights = tf.Variable(tf.truncated_normal(\n",
    "        [image_size // 4 * image_size // 4 * conv_depth, conv_num_hidden], stddev=0.1))\n",
    "    layer3_biases = tf.Variable(tf.constant(1.0, shape=[conv_num_hidden]))\n",
    "    layer4_weights = tf.Variable(tf.truncated_normal(\n",
    "        [conv_num_hidden, lstm_num_nodes], stddev=0.1))\n",
    "    layer4_biases = tf.Variable(tf.constant(1.0, shape=[lstm_num_nodes]))\n",
    "\n",
    "    # LSTM variables\n",
    "    # Combined input, output, and bias matrices of the four gates [input, forget, memory, output]\n",
    "    combined_i = tf.Variable(tf.truncated_normal([vocabulary_size, lstm_num_nodes*4], -0.1, 0.1))\n",
    "    combined_o = tf.Variable(tf.truncated_normal([lstm_num_nodes, lstm_num_nodes*4], -0.1, 0.1))\n",
    "    combined_b = tf.Variable(tf.zeros([1, lstm_num_nodes * 4]))\n",
    "    # Variable saving state across unrollings.\n",
    "    saved_output = tf.Variable(tf.zeros([batch_size, lstm_num_nodes]), trainable=False)\n",
    "    # Classifier weights and biases.\n",
    "    w = tf.Variable(tf.truncated_normal([lstm_num_nodes, vocabulary_size], -0.1, 0.1))\n",
    "    b = tf.Variable(tf.zeros([vocabulary_size]))\n",
    "    \n",
    "    # Models\n",
    "    def cnn_model(data):\n",
    "        conv = tf.nn.conv2d(data, layer1_weights, [1, 1, 1, 1], padding='SAME')\n",
    "        hidden = tf.nn.relu(conv + layer1_biases)\n",
    "        pooling = tf.nn.max_pool(hidden, [1, 2, 2, 1], [1, 2, 2, 1], padding='SAME')\n",
    "        conv = tf.nn.conv2d(pooling, layer2_weights, [1, 1, 1, 1], padding='SAME')\n",
    "        hidden = tf.nn.relu(conv + layer2_biases)\n",
    "        pooling = tf.nn.max_pool(hidden, [1, 2, 2, 1], [1, 2, 2, 1], padding='SAME')\n",
    "        shape = pooling.get_shape().as_list()\n",
    "        reshape = tf.reshape(pooling, [shape[0], shape[1] * shape[2] * shape[3]])\n",
    "        hidden = tf.nn.relu(tf.matmul(reshape, layer3_weights) + layer3_biases)\n",
    "        return tf.matmul(hidden, layer4_weights) + layer4_biases\n",
    "\n",
    "    def lstm_cell(i, o, state):\n",
    "        \"\"\"Similar to http://arxiv.org/pdf/1402.1128v1.pdf without various connections\n",
    "        between the previous state and the gates.\"\"\"\n",
    "        input, forget, memory, output = tf.split(\n",
    "            tf.matmul(i, combined_i) + tf.matmul(o, combined_o) + combined_b,\n",
    "            num_or_size_splits=4, axis=1)\n",
    "        input_gate  = tf.sigmoid(input)\n",
    "        forget_gate = tf.sigmoid(forget)\n",
    "        output_gate = tf.sigmoid(output)\n",
    "        state = forget_gate * state + input_gate * tf.tanh(memory)\n",
    "        return output_gate * tf.tanh(state), state\n",
    "    \n",
    "    def crnn_model(input_data):\n",
    "        # Convolutional step\n",
    "        conv_state = cnn_model(input_data)\n",
    "\n",
    "        # Unrolled LSTM loop.\n",
    "        outputs = list()\n",
    "        output = saved_output\n",
    "        state = conv_state\n",
    "        input = go_token\n",
    "        for _ in range(label_length):\n",
    "            output, state = lstm_cell(input, output, state)\n",
    "            outputs.append(output)\n",
    "            # Feed output back to input instead of using corrective inputs\n",
    "            input = tf.nn.xw_plus_b(output, w, b)\n",
    "            # input = sample(tf.nn.softmax(tf.nn.xw_plus_b(sample_output, w, b))) # do we 1-hot inputs?\n",
    "\n",
    "        # Classifier.\n",
    "        logits = tf.nn.xw_plus_b(tf.concat(outputs, 0), w, b)\n",
    "        loss = tf.reduce_mean(\n",
    "            tf.nn.softmax_cross_entropy_with_logits(\n",
    "                labels=tf.concat(train_labels, 0), logits=logits))\n",
    "        \n",
    "        return logits, loss\n",
    "    \n",
    "    # Training loop\n",
    "    train_logits, train_loss = crnn_model(train_dataset)\n",
    "\n",
    "    # Optimizer.\n",
    "    global_step = tf.Variable(0)\n",
    "    learning_rate = tf.train.exponential_decay(1.0, global_step, 5000, 0.1, staircase=True)\n",
    "    optimizer = tf.train.GradientDescentOptimizer(learning_rate)\n",
    "    gradients, v = zip(*optimizer.compute_gradients(train_loss))\n",
    "    gradients, _ = tf.clip_by_global_norm(gradients, 1.25)\n",
    "    optimizer = optimizer.apply_gradients(zip(gradients, v), global_step=global_step)\n",
    "\n",
    "    # Validation loop\n",
    "    valid_logits, _ = crnn_model(valid_dataset)\n",
    "\n",
    "    # Predictions\n",
    "    train_prediction = tf.nn.softmax(train_logits)\n",
    "    valid_prediction = tf.nn.softmax(valid_logits)"
   ]
  },
  {
   "cell_type": "markdown",
   "metadata": {},
   "source": [
    "Now let's train the network using the validation set perplexity and occassionally printing a small subset of the validation predictions to keep track of training progress."
   ]
  },
  {
   "cell_type": "code",
   "execution_count": 16,
   "metadata": {},
   "outputs": [
    {
     "name": "stdout",
     "output_type": "stream",
     "text": [
      "Initialized\n",
      "Average loss at step 0: 2.456678 learning rate: 1.000000\n",
      "Minibatch perplexity: 11.67\n",
      "\tPREDICTED\t\tACTUAL\n",
      "\t[0, 5, 7, 0, 11, 0]\t[6, 4, 2, 0, 0, 0]\n",
      "\t[0, 0, 0, 0, 0, 10]\t[1, 6, 3, 0, 0, 0]\n",
      "\t[9, 0, 0, 3, 0, 10]\t[6, 4, 0, 0, 0, 0]\n",
      "\t[3, 11, 0, 1, 6, 8]\t[8, 0, 0, 0, 0, 0]\n",
      "\t[0, 10, 0, 0, 0, 0]\t[3, 2, 0, 0, 0, 0]\n",
      "\t[1, 0, 3, 0, 3, 3]\t[1, 2, 0, 0, 0, 0]\n",
      "\t[0, 0, 5, 3, 0, 10]\t[3, 10, 0, 0, 0, 0]\n",
      "\t[3, 8, 1, 0, 0, 0]\t[2, 8, 0, 0, 0, 0]\n",
      "\tValidation set perplexity: 1.09\n",
      "Average loss at step 100: 1.068513 learning rate: 1.000000\n",
      "Minibatch perplexity: 2.33\n",
      "Average loss at step 200: 0.997969 learning rate: 1.000000\n",
      "Minibatch perplexity: 2.62\n",
      "Average loss at step 300: 0.959504 learning rate: 1.000000\n",
      "Minibatch perplexity: 2.27\n",
      "Average loss at step 400: 0.951943 learning rate: 1.000000\n",
      "Minibatch perplexity: 2.73\n",
      "Average loss at step 500: 0.912625 learning rate: 1.000000\n",
      "Minibatch perplexity: 2.29\n",
      "\tPREDICTED\t\tACTUAL\n",
      "\t[3, 9, 9, 0, 0, 0]\t[6, 4, 2, 0, 0, 0]\n",
      "\t[3, 1, 10, 0, 0, 0]\t[1, 6, 3, 0, 0, 0]\n",
      "\t[1, 3, 0, 0, 0, 0]\t[6, 4, 0, 0, 0, 0]\n",
      "\t[2, 3, 0, 0, 0, 0]\t[8, 0, 0, 0, 0, 0]\n",
      "\t[2, 8, 0, 0, 0, 0]\t[3, 2, 0, 0, 0, 0]\n",
      "\t[3, 2, 10, 0, 0, 0]\t[1, 2, 0, 0, 0, 0]\n",
      "\t[3, 10, 4, 0, 0, 0]\t[3, 10, 0, 0, 0, 0]\n",
      "\t[1, 2, 0, 0, 0, 0]\t[2, 8, 0, 0, 0, 0]\n",
      "\tValidation set perplexity: 1.06\n",
      "Average loss at step 600: 0.894503 learning rate: 1.000000\n",
      "Minibatch perplexity: 2.06\n",
      "Average loss at step 700: 0.872214 learning rate: 1.000000\n",
      "Minibatch perplexity: 2.24\n",
      "Average loss at step 800: 0.832102 learning rate: 1.000000\n",
      "Minibatch perplexity: 2.14\n",
      "Average loss at step 900: 0.820133 learning rate: 1.000000\n",
      "Minibatch perplexity: 2.10\n",
      "Average loss at step 1000: 0.760139 learning rate: 1.000000\n",
      "Minibatch perplexity: 2.10\n",
      "\tPREDICTED\t\tACTUAL\n",
      "\t[1, 5, 1, 0, 0, 0]\t[6, 4, 2, 0, 0, 0]\n",
      "\t[1, 5, 5, 0, 0, 0]\t[1, 6, 3, 0, 0, 0]\n",
      "\t[5, 8, 0, 0, 0, 0]\t[6, 4, 0, 0, 0, 0]\n",
      "\t[8, 0, 0, 0, 0, 0]\t[8, 0, 0, 0, 0, 0]\n",
      "\t[1, 2, 0, 0, 0, 0]\t[3, 2, 0, 0, 0, 0]\n",
      "\t[1, 2, 0, 0, 0, 0]\t[1, 2, 0, 0, 0, 0]\n",
      "\t[6, 5, 0, 0, 0, 0]\t[3, 10, 0, 0, 0, 0]\n",
      "\t[2, 1, 0, 0, 0, 0]\t[2, 8, 0, 0, 0, 0]\n",
      "\tValidation set perplexity: 1.06\n",
      "Average loss at step 1100: 0.753116 learning rate: 1.000000\n",
      "Minibatch perplexity: 2.05\n",
      "Average loss at step 1200: 0.679773 learning rate: 1.000000\n",
      "Minibatch perplexity: 1.93\n",
      "Average loss at step 1300: 0.677726 learning rate: 1.000000\n",
      "Minibatch perplexity: 1.63\n",
      "Average loss at step 1400: 0.647285 learning rate: 1.000000\n",
      "Minibatch perplexity: 1.79\n",
      "Average loss at step 1500: 0.579542 learning rate: 1.000000\n",
      "Minibatch perplexity: 2.13\n",
      "\tPREDICTED\t\tACTUAL\n",
      "\t[1, 10, 8, 0, 0, 0]\t[6, 4, 2, 0, 0, 0]\n",
      "\t[1, 6, 7, 0, 0, 0]\t[1, 6, 3, 0, 0, 0]\n",
      "\t[6, 2, 0, 0, 0, 0]\t[6, 4, 0, 0, 0, 0]\n",
      "\t[5, 8, 0, 0, 0, 0]\t[8, 0, 0, 0, 0, 0]\n",
      "\t[1, 1, 2, 0, 0, 0]\t[3, 2, 0, 0, 0, 0]\n",
      "\t[1, 2, 0, 0, 0, 0]\t[1, 2, 0, 0, 0, 0]\n",
      "\t[1, 10, 0, 0, 0, 0]\t[3, 10, 0, 0, 0, 0]\n",
      "\t[2, 11, 0, 0, 0, 0]\t[2, 8, 0, 0, 0, 0]\n",
      "\tValidation set perplexity: 1.05\n",
      "Average loss at step 1600: 0.592858 learning rate: 1.000000\n",
      "Minibatch perplexity: 1.73\n",
      "Average loss at step 1700: 0.593122 learning rate: 1.000000\n",
      "Minibatch perplexity: 1.63\n",
      "Average loss at step 1800: 0.589289 learning rate: 1.000000\n",
      "Minibatch perplexity: 1.45\n",
      "Average loss at step 1900: 0.550321 learning rate: 1.000000\n",
      "Minibatch perplexity: 1.63\n",
      "Average loss at step 2000: 0.571138 learning rate: 1.000000\n",
      "Minibatch perplexity: 1.70\n",
      "\tPREDICTED\t\tACTUAL\n",
      "\t[5, 8, 9, 0, 0, 0]\t[6, 4, 2, 0, 0, 0]\n",
      "\t[1, 3, 9, 0, 0, 0]\t[1, 6, 3, 0, 0, 0]\n",
      "\t[6, 2, 0, 0, 0, 0]\t[6, 4, 0, 0, 0, 0]\n",
      "\t[5, 0, 0, 0, 0, 0]\t[8, 0, 0, 0, 0, 0]\n",
      "\t[4, 6, 0, 5, 0, 0]\t[3, 2, 0, 0, 0, 0]\n",
      "\t[4, 2, 2, 0, 0, 0]\t[1, 2, 0, 0, 0, 0]\n",
      "\t[3, 10, 0, 0, 0, 0]\t[3, 10, 0, 0, 0, 0]\n",
      "\t[2, 1, 1, 0, 0, 0]\t[2, 8, 0, 0, 0, 0]\n",
      "\tValidation set perplexity: 1.05\n",
      "Average loss at step 2100: 0.566082 learning rate: 1.000000\n",
      "Minibatch perplexity: 1.57\n",
      "Average loss at step 2200: 0.572994 learning rate: 1.000000\n",
      "Minibatch perplexity: 2.11\n",
      "Average loss at step 2300: 0.552687 learning rate: 1.000000\n",
      "Minibatch perplexity: 1.61\n",
      "Average loss at step 2400: 0.553825 learning rate: 1.000000\n",
      "Minibatch perplexity: 1.85\n",
      "Average loss at step 2500: 0.533700 learning rate: 1.000000\n",
      "Minibatch perplexity: 1.65\n",
      "\tPREDICTED\t\tACTUAL\n",
      "\t[5, 9, 8, 0, 0, 0]\t[6, 4, 2, 0, 0, 0]\n",
      "\t[1, 5, 0, 0, 0, 0]\t[1, 6, 3, 0, 0, 0]\n",
      "\t[7, 0, 0, 0, 0, 0]\t[6, 4, 0, 0, 0, 0]\n",
      "\t[3, 0, 0, 0, 0, 0]\t[8, 0, 0, 0, 0, 0]\n",
      "\t[9, 0, 0, 0, 0, 0]\t[3, 2, 0, 0, 0, 0]\n",
      "\t[1, 2, 0, 0, 0, 0]\t[1, 2, 0, 0, 0, 0]\n",
      "\t[3, 10, 0, 0, 0, 0]\t[3, 10, 0, 0, 0, 0]\n",
      "\t[2, 1, 0, 0, 0, 0]\t[2, 8, 0, 0, 0, 0]\n",
      "\tValidation set perplexity: 1.05\n",
      "Average loss at step 2600: 0.523563 learning rate: 1.000000\n",
      "Minibatch perplexity: 1.65\n",
      "Average loss at step 2700: 0.524896 learning rate: 1.000000\n",
      "Minibatch perplexity: 1.74\n",
      "Average loss at step 2800: 0.491028 learning rate: 1.000000\n",
      "Minibatch perplexity: 1.45\n",
      "Average loss at step 2900: 0.502579 learning rate: 1.000000\n",
      "Minibatch perplexity: 1.46\n",
      "Average loss at step 3000: 0.537977 learning rate: 1.000000\n",
      "Minibatch perplexity: 1.97\n",
      "\tPREDICTED\t\tACTUAL\n",
      "\t[1, 9, 6, 0, 0, 0]\t[6, 4, 2, 0, 0, 0]\n",
      "\t[1, 1, 5, 0, 0, 0]\t[1, 6, 3, 0, 0, 0]\n",
      "\t[3, 10, 0, 0, 0, 0]\t[6, 4, 0, 0, 0, 0]\n",
      "\t[6, 0, 0, 0, 0, 0]\t[8, 0, 0, 0, 0, 0]\n",
      "\t[1, 6, 8, 0, 0, 0]\t[3, 2, 0, 0, 0, 0]\n",
      "\t[1, 2, 0, 0, 0, 0]\t[1, 2, 0, 0, 0, 0]\n",
      "\t[5, 10, 0, 0, 0, 0]\t[3, 10, 0, 0, 0, 0]\n",
      "\t[2, 10, 0, 0, 0, 0]\t[2, 8, 0, 0, 0, 0]\n",
      "\tValidation set perplexity: 1.04\n",
      "Average loss at step 3100: 0.558437 learning rate: 1.000000\n",
      "Minibatch perplexity: 1.48\n",
      "Average loss at step 3200: 0.501517 learning rate: 1.000000\n",
      "Minibatch perplexity: 1.73\n",
      "Average loss at step 3300: 0.489744 learning rate: 1.000000\n",
      "Minibatch perplexity: 1.53\n",
      "Average loss at step 3400: 0.494238 learning rate: 1.000000\n",
      "Minibatch perplexity: 1.79\n",
      "Average loss at step 3500: 0.510454 learning rate: 1.000000\n",
      "Minibatch perplexity: 2.79\n",
      "\tPREDICTED\t\tACTUAL\n",
      "\t[9, 9, 9, 1, 10, 0]\t[6, 4, 2, 0, 0, 0]\n",
      "\t[1, 4, 3, 0, 0, 0]\t[1, 6, 3, 0, 0, 0]\n",
      "\t[1, 2, 7, 0, 0, 0]\t[6, 4, 0, 0, 0, 0]\n",
      "\t[8, 3, 0, 0, 0, 0]\t[8, 0, 0, 0, 0, 0]\n",
      "\t[1, 4, 9, 0, 0, 0]\t[3, 2, 0, 0, 0, 0]\n",
      "\t[1, 2, 0, 0, 0, 0]\t[1, 2, 0, 0, 0, 0]\n",
      "\t[1, 6, 0, 0, 0, 0]\t[3, 10, 0, 0, 0, 0]\n",
      "\t[2, 7, 1, 0, 0, 0]\t[2, 8, 0, 0, 0, 0]\n",
      "\tValidation set perplexity: 1.04\n",
      "Average loss at step 3600: 0.535498 learning rate: 1.000000\n",
      "Minibatch perplexity: 1.88\n",
      "Average loss at step 3700: 0.512494 learning rate: 1.000000\n",
      "Minibatch perplexity: 1.59\n",
      "Average loss at step 3800: 0.503471 learning rate: 1.000000\n",
      "Minibatch perplexity: 1.72\n",
      "Average loss at step 3900: 0.518310 learning rate: 1.000000\n",
      "Minibatch perplexity: 1.75\n",
      "Average loss at step 4000: 0.509366 learning rate: 1.000000\n",
      "Minibatch perplexity: 1.38\n",
      "\tPREDICTED\t\tACTUAL\n",
      "\t[1, 2, 2, 0, 0, 0]\t[6, 4, 2, 0, 0, 0]\n",
      "\t[1, 5, 7, 0, 0, 0]\t[1, 6, 3, 0, 0, 0]\n",
      "\t[6, 0, 0, 0, 0, 0]\t[6, 4, 0, 0, 0, 0]\n",
      "\t[3, 0, 0, 0, 0, 0]\t[8, 0, 0, 0, 0, 0]\n",
      "\t[2, 10, 0, 0, 0, 0]\t[3, 2, 0, 0, 0, 0]\n",
      "\t[1, 2, 0, 0, 0, 0]\t[1, 2, 0, 0, 0, 0]\n",
      "\t[5, 10, 0, 0, 0, 0]\t[3, 10, 0, 0, 0, 0]\n",
      "\t[2, 7, 0, 0, 0, 0]\t[2, 8, 0, 0, 0, 0]\n",
      "\tValidation set perplexity: 1.04\n"
     ]
    }
   ],
   "source": [
    "train_batches = BatchGenerator(train_set, batch_size)\n",
    "valid_batches = BatchGenerator(valid_set, batch_size)\n",
    "\n",
    "# Remember one validation batch for printing outputs\n",
    "v_batch = valid_batches.next()\n",
    "\n",
    "valid_size = valid_set[0].shape[0]\n",
    "\n",
    "num_steps = 4001\n",
    "summary_frequency = 100\n",
    "\n",
    "with tf.Session(graph=graph) as session:\n",
    "    tf.global_variables_initializer().run()\n",
    "    print('Initialized')\n",
    "    mean_loss = 0\n",
    "    for step in range(num_steps):\n",
    "        batches = train_batches.next()\n",
    "        feed_dict = dict()\n",
    "        for i in range(label_length):\n",
    "            feed_dict[train_labels[i]] = batches[1][i]\n",
    "        feed_dict[train_dataset] = batches[0]\n",
    "        _, l, predictions, lr = session.run(\n",
    "            [optimizer, train_loss, train_prediction, learning_rate], feed_dict=feed_dict)\n",
    "        mean_loss += l\n",
    "        if step % summary_frequency == 0:\n",
    "            if step > 0:\n",
    "                mean_loss = mean_loss / summary_frequency\n",
    "            # The mean loss is an estimate of the loss over the last few batches.\n",
    "            print('Average loss at step %d: %f learning rate: %f' %\n",
    "                  (step, mean_loss, lr))\n",
    "            mean_loss = 0\n",
    "\n",
    "            # Calculate the minibatch perplexity\n",
    "            labels = np.concatenate(batches[1])\n",
    "            print('Minibatch perplexity: %.2f' %\n",
    "                  float(np.exp(logprob(predictions, labels))))\n",
    "            \n",
    "            # Print small subset of validation batch predictions\n",
    "            if step % (summary_frequency * 5) == 0:\n",
    "                feed_dict = dict()\n",
    "                for i in range(label_length):\n",
    "                    feed_dict[valid_labels[i]] = v_batch[1][i]\n",
    "                feed_dict[valid_dataset] = v_batch[0]\n",
    "                prediction = valid_prediction.eval(feed_dict)\n",
    "                print('\\tPREDICTED\\t\\tACTUAL', end='\\n')\n",
    "                for i in range(8):\n",
    "                    # predicted = np.argmax(prediction[i::16],1)\n",
    "                    predicted = [sample_distribution(digit) for digit in prediction[i::16]]\n",
    "                    actual = [np.argmax(digit[i]) for digit in np.array(v_batch[1])]\n",
    "                    print('\\t', end='')\n",
    "                    print(list(predicted), end='\\t')\n",
    "                    print(actual, end='\\n')\n",
    "\n",
    "                # Measure validation set perplexity.\n",
    "                valid_logprob = 0\n",
    "                for _ in range(valid_size // batch_size):                \n",
    "                    b = valid_batches.next()\n",
    "                    feed_dict = dict()\n",
    "                    for i in range(label_length):\n",
    "                        feed_dict[valid_labels[i]] = b[1][i]\n",
    "                    feed_dict[valid_dataset] = b[0]\n",
    "                    predictions = valid_prediction.eval(feed_dict)\n",
    "                    labels = np.concatenate(b[1])\n",
    "                    valid_logprob = valid_logprob + logprob(predictions, labels)\n",
    "                print('\\tValidation set perplexity: %.2f' %\n",
    "                      float(np.exp(valid_logprob / valid_size)))"
   ]
  },
  {
   "cell_type": "code",
   "execution_count": 17,
   "metadata": {
    "scrolled": true
   },
   "outputs": [
    {
     "data": {
      "image/png": "[encoded data removed]",
      "text/plain": [
       "<matplotlib.figure.Figure at 0x7f993f0d6810>"
      ]
     },
     "metadata": {},
     "output_type": "display_data"
    }
   ],
   "source": [
    "fig = plt.figure(figsize=(12, 6))\n",
    "for i in range(8):\n",
    "    plt.subplot(2, 4, i+1).imshow(v_batch[0][i])\n",
    "plt.show()"
   ]
  },
  {
   "cell_type": "markdown",
   "metadata": {},
   "source": [
    "### Final Thoughts"
   ]
  },
  {
   "cell_type": "markdown",
   "metadata": {},
   "source": [
    "Compared to the architecture outlined by Shi, Bai, and Yao, who tackle the same problem in [this paper](https://arxiv.org/pdf/1507.05717.pdf), it's actually remarkable that my simplified model was able to exhibit convergence and diminishing perplexity.\n",
    "\n",
    "Here are some crucial components from the paper that I did not use:\n",
    "* Bidirectional LSTMs\n",
    "* Multilayered LSTMS\n",
    "* Replacing the CNN fully connected layer with a spatially ordered feature sequence\n",
    "* A transcription layer\n",
    "\n",
    "I also imagine that feeding the correct labels as inputs to each cell of the LSTM layer would speed up convergence (though that can sometimes hurt the robustness of the final model).\n",
    "\n",
    "There's also an interesting question of how to initialize the first LSTM cell's input of prior output. In the batch processing of sequential text, it's often advised to make sure that output values persist across batches to provide the subsequent batch with a glipse of the prior batch, but in this case, I decided to zero out that input for each batch because it seemed that there was no obvious connection between one batch of images and another.\n",
    "\n",
    "What this notebook shows is that __there is enough latent information in the fully-connected output of the convolutional network to drive the recurrent layer__ to produce some correct answers.\n",
    "\n",
    "##### Future Directions\n",
    "\n",
    "Given more time, I'd obviously like to adapt more components from the architecture outlined in the paper.\n",
    "\n",
    "Also, one hypothesis based on my printed validation examples is that my architecture struggles with longer sequences, so the introduction of spatially ordered feature sequences at the CNN layer would probably go a long way in better utilizing the sequence capabilities of LSTMs. I also think it would be worth experimenting with a modified LSTM architecture in which the hidden state produced by the CNN is fed to every cell of the recurrent layer, but a BiLSTM may also be sufficient."
   ]
  }
 ],
 "metadata": {
  "kernelspec": {
   "display_name": "Python 2",
   "language": "python",
   "name": "python2"
  },
  "language_info": {
   "codemirror_mode": {
    "name": "ipython",
    "version": 2
   },
   "file_extension": ".py",
   "mimetype": "text/x-python",
   "name": "python",
   "nbconvert_exporter": "python",
   "pygments_lexer": "ipython2",
   "version": "2.7.12"
  }
 },
 "nbformat": 4,
 "nbformat_minor": 2
}
