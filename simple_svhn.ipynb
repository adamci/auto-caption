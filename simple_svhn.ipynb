{
 "cells": [
  {
   "cell_type": "markdown",
   "metadata": {
    "collapsed": true
   },
   "source": [
    "# CRNN from scratch using TensorFlow"
   ]
  },
  {
   "cell_type": "markdown",
   "metadata": {},
   "source": [
    "The goal of this notebook is to take what I've learned from the [Udacity Deep Learning course](https://www.udacity.com/course/deep-learning--ud730) and apply it to training an algorithm that can perform image to text translation on the [Stanford Street View House Numbers (SVHN) Dataset](http://ufldl.stanford.edu/housenumbers/), successfully recognizing street address numbers in real-world images.\n",
    "\n",
    "Because I've recently gotten very excited about LSTMs, I'll be attempting this task using a [CRNN](https://arxiv.org/pdf/1507.05717.pdf), connecting the output of a convolutional net to an RNN decoder."
   ]
  },
  {
   "cell_type": "code",
   "execution_count": 1,
   "metadata": {
    "collapsed": true
   },
   "outputs": [],
   "source": [
    "import os\n",
    "import sys\n",
    "import numpy as np\n",
    "import tensorflow as tf\n",
    "import scipy.io\n",
    "import gzip\n",
    "import tarfile\n",
    "import h5py\n",
    "from PIL import Image\n",
    "import six.moves.cPickle as pickle\n",
    "from six.moves import urllib\n",
    "import shutil\n",
    "import matplotlib.pyplot as plt\n",
    "%matplotlib inline"
   ]
  },
  {
   "cell_type": "markdown",
   "metadata": {},
   "source": [
    "Many thanks to Imad Ali who gave a [great example](https://github.com/imadmali/svhn-format1) of how to preprocess this dataset using Python's `h5py` library. The next few cells are adapted from his work."
   ]
  },
  {
   "cell_type": "code",
   "execution_count": 11,
   "metadata": {},
   "outputs": [
    {
     "name": "stdout",
     "output_type": "stream",
     "text": [
      "../data/train.tar.gz\n",
      "../data/test.tar.gz\n"
     ]
    }
   ],
   "source": [
    "data_dir = '../data'\n",
    "\n",
    "# Download the SVHN dataset if it is not present\n",
    "def check_dataset(dataset):\n",
    "    # Check if dataset is in the data directory.\n",
    "    new_path = os.path.join(data_dir, dataset)\n",
    "    if (not os.path.isdir(data_dir)):\n",
    "        os.mkdir(data_dir)\n",
    "    if (not os.path.isfile(new_path)):\n",
    "        origin = ('http://ufldl.stanford.edu/housenumbers/' + dataset)\n",
    "        print('Downloading data from %s' % origin)\n",
    "        urllib.request.urlretrieve(origin, new_path)\n",
    "    return new_path\n",
    "\n",
    "print(check_dataset('train.tar.gz'))\n",
    "print(check_dataset('test.tar.gz'))"
   ]
  },
  {
   "cell_type": "code",
   "execution_count": 12,
   "metadata": {
    "collapsed": true
   },
   "outputs": [],
   "source": [
    "image_size = 32\n",
    "num_channels = 3\n",
    "\n",
    "def format_data(dataset):\n",
    "    print '... processing data (should only occur when downloading for the first time)'\n",
    "    # Unzip data from scratch\n",
    "    data_type = os.path.splitext(os.path.splitext(dataset)[0])[0]\n",
    "    unzipped_path = os.path.join(data_dir, data_type)\n",
    "    if os.path.exists(unzipped_path):\n",
    "        shutil.rmtree(unzipped_path)\n",
    "    tar = tarfile.open(os.path.join(data_dir, dataset), 'r:gz')\n",
    "    tar.extractall(data_dir)\n",
    "\n",
    "    # Access label information in digitStruct.mat\n",
    "    f = h5py.File(os.path.join(data_dir, data_type, 'digitStruct.mat'), 'r')\n",
    "    digit_struct_name = f['digitStruct']['name']\n",
    "    digit_struct_bbox = f['digitStruct']['bbox']\n",
    "\n",
    "    def getName(n):\n",
    "        return ''.join([chr(c[0]) for c in f[digit_struct_name[n][0]].value])\n",
    "\n",
    "    def bboxHelper(attr):\n",
    "        if (len(attr) > 1):\n",
    "            attr = [f[attr.value[j].item()].value[0][0] for j in range(len(attr))]\n",
    "        else:\n",
    "            attr = [attr.value[0][0]]\n",
    "        return attr\n",
    "\n",
    "    def getBbox(n):\n",
    "        bbox = {}\n",
    "        bb = digit_struct_bbox[n].item()\n",
    "        bbox['height'] = bboxHelper(f[bb][\"height\"])\n",
    "        bbox['label'] = bboxHelper(f[bb][\"label\"])\n",
    "        bbox['left'] = bboxHelper(f[bb][\"left\"])\n",
    "        bbox['top'] = bboxHelper(f[bb][\"top\"])\n",
    "        bbox['width'] = bboxHelper(f[bb][\"width\"])\n",
    "        return bbox\n",
    "\n",
    "    # Process bbox\n",
    "    print '... creating image box bound dict for %s data' % data_type\n",
    "    image_dict = {}\n",
    "    for i in range(len(digit_struct_name)):\n",
    "        image_dict[getName(i)] = getBbox(i)\n",
    "        if (i % 2000 == 0):\n",
    "            print '\\timage dict processing: %i/%i complete' %(i, len(digit_struct_name))\n",
    "    print '... dict processing complete'\n",
    "\n",
    "    # Process the data\n",
    "    print('... processing image data and labels')\n",
    "    names = [item for item in os.listdir(unzipped_path) if item.endswith('.png')]\n",
    "\n",
    "    x, y = [], []\n",
    "    for i in range(len(names)):\n",
    "        y.append(image_dict[names[i]]['label'])\n",
    "        image = Image.open(unzipped_path + '/' + names[i])\n",
    "        # Calculate the total bounding box from the exterior corners of all bounding boxes\n",
    "        left = int(min(image_dict[names[i]]['left']))\n",
    "        upper = int(min(image_dict[names[i]]['top']))\n",
    "        right = int(max(image_dict[names[i]]['left'])) + int(max(image_dict[names[i]]['width']))\n",
    "        lower = int(max(image_dict[names[i]]['top'])) + int(max(image_dict[names[i]]['height']))\n",
    "        image = image.crop(box = (left, upper, right, lower))\n",
    "        image = image.resize([image_size, image_size])\n",
    "        image_array = np.array(image)\n",
    "        # Normalize mean and standard deviation\n",
    "        image_array = (image_array - 255. / 2) / 255.\n",
    "        x.append(image_array)\n",
    "        if (i % 2000 == 0):\n",
    "            print '\\timage processing: %i/%i complete' %(i,len(names))\n",
    "    print '... image processing complete'\n",
    "\n",
    "    # Save data\n",
    "    print '... pickling data'\n",
    "    out = {'labels': y, 'images': x}\n",
    "    out_path = os.path.join(data_dir, data_type + 'pkl.gz')\n",
    "    p = gzip.open(out_path, 'wb')\n",
    "    pickle.dump(out, p)\n",
    "    p.close()\n",
    "\n",
    "    tar.close()\n",
    "    \n",
    "    # clean up (delete test/train folders that were used to create the pickled data)\n",
    "    shutil.rmtree(unzipped_path)"
   ]
  },
  {
   "cell_type": "markdown",
   "metadata": {},
   "source": [
    "Only format the data if the processed pickle files don't exist."
   ]
  },
  {
   "cell_type": "code",
   "execution_count": 13,
   "metadata": {
    "collapsed": true
   },
   "outputs": [],
   "source": [
    "if (not os.path.isfile(os.path.join(data_dir, 'trainpkl.gz'))):\n",
    "    format_data('train.tar.gz')\n",
    "\n",
    "f_train = gzip.open(os.path.join(data_dir, 'trainpkl.gz'), 'rb')\n",
    "train_data = pickle.load(f_train)\n",
    "f_train.close()\n",
    "\n",
    "if (not os.path.isfile(os.path.join(data_dir, 'testpkl.gz'))):\n",
    "    format_data('test.tar.gz')\n",
    "\n",
    "f_test = gzip.open(os.path.join(data_dir, 'testpkl.gz'), 'rb')\n",
    "test_data = pickle.load(f_test)\n",
    "f_test.close()"
   ]
  },
  {
   "cell_type": "code",
   "execution_count": 14,
   "metadata": {
    "collapsed": true
   },
   "outputs": [],
   "source": [
    "label_length = 6\n",
    "\n",
    "# Convert data format\n",
    "def convert_data_format(data):\n",
    "    images = data.pop('images')\n",
    "    X = np.array(images)\n",
    "\n",
    "    labels = data.pop('labels')\n",
    "    for i in range(len(labels)):\n",
    "        l = len(labels[i])-1\n",
    "        zeros = np.zeros(label_length - l - 1).tolist()\n",
    "        labels[i].extend(zeros)\n",
    "    y = np.array(labels)\n",
    "    \n",
    "    return (X,y)\n",
    "\n",
    "train_set = convert_data_format(train_data)\n",
    "train_set_len = len(train_set[1])\n",
    "\n",
    "# Extract validation dataset from train dataset (10% of the train_set)\n",
    "valid_set = [x[-(train_set_len//10):] for x in train_set]\n",
    "train_set = [x[:-(train_set_len//10)] for x in train_set]\n",
    "test_set = convert_data_format(test_data)"
   ]
  },
  {
   "cell_type": "markdown",
   "metadata": {},
   "source": [
    "`train_set`, `valid_set`, and `test_set` each contain a list `['images', 'labels']`.\n",
    "* `'images'` is a 4D numpy array of dimensions num_images x height x width x channels (RGB)\n",
    "* `'labels'` is a 2D numpy array where each row is a house number and each element of that row is a digit. The rows\n",
    "  are padded at a length of 6 digits where the number `0` represents the padding, and the number `10` represents the\n",
    "  digit `0`."
   ]
  },
  {
   "cell_type": "code",
   "execution_count": 15,
   "metadata": {},
   "outputs": [
    {
     "name": "stdout",
     "output_type": "stream",
     "text": [
      "((30062, 32, 32, 3), (30062, 6))\n",
      "((3340, 32, 32, 3), (3340, 6))\n",
      "((13068, 32, 32, 3), (13068, 6))\n"
     ]
    }
   ],
   "source": [
    "print(train_set[0].shape, train_set[1].shape)\n",
    "print(valid_set[0].shape, valid_set[1].shape)\n",
    "print(test_set[0].shape, test_set[1].shape)"
   ]
  },
  {
   "cell_type": "markdown",
   "metadata": {},
   "source": [
    "As a sanity check, let's display an image from the test set. The image will look odd because of the mean and standard deviation normalization we did in the `format_data()` method."
   ]
  },
  {
   "cell_type": "code",
   "execution_count": 16,
   "metadata": {
    "scrolled": true
   },
   "outputs": [
    {
     "name": "stdout",
     "output_type": "stream",
     "text": [
      "[  2.  10.  10.   0.   0.   0.]\n"
     ]
    },
    {
     "data": {
      "image/png": "[encoded data removed]",
      "text/plain": [
       "<matplotlib.figure.Figure at 0x7f9ccea28790>"
      ]
     },
     "metadata": {},
     "output_type": "display_data"
    }
   ],
   "source": [
    "data_index = 994\n",
    "plt.imshow(test_set[0][data_index])\n",
    "print(test_set[1][data_index])"
   ]
  },
  {
   "cell_type": "markdown",
   "metadata": {},
   "source": [
    "From these datasets, we need to build batches that can be read by convolutional and LSTM layers."
   ]
  },
  {
   "cell_type": "code",
   "execution_count": 25,
   "metadata": {
    "collapsed": true
   },
   "outputs": [],
   "source": [
    "batch_size = 16\n",
    "vocabulary_size = 12 # buffer, digits 1-9, 0 digit, and a GO token for the lstm, in that order\n",
    "\n",
    "class BatchGenerator(object):\n",
    "  def __init__(self, data_set, batch_size):\n",
    "    self._images = data_set[0]\n",
    "    self._labels = data_set[1]\n",
    "    self._dataset_size = data_set[1].shape[0]\n",
    "    self._label_size = data_set[1].shape[1]\n",
    "    self._batch_size = batch_size\n",
    "    self._cursor = 0\n",
    "  \n",
    "  def next(self):\n",
    "    \"\"\"Generate a single batch from the current cursor position in the data.\"\"\"\n",
    "    image_batch = []\n",
    "    for b in range(self._batch_size):\n",
    "        cursor = self._cursor + b % self._dataset_size\n",
    "        image_batch.append(self._images[cursor])\n",
    "    label_batch = []\n",
    "    for i in range(self._label_size):\n",
    "        batch = np.zeros(shape=(self._batch_size, vocabulary_size), dtype=np.float64)\n",
    "        for b in range(self._batch_size):\n",
    "            cursor = self._cursor + b % self._dataset_size\n",
    "            batch[b, int(self._labels[cursor][i])] = 1.0\n",
    "        label_batch.append(batch)\n",
    "    self._cursor = self._cursor + self._label_size % self._dataset_size\n",
    "    return [np.array(image_batch), label_batch]"
   ]
  },
  {
   "cell_type": "code",
   "execution_count": 26,
   "metadata": {},
   "outputs": [
    {
     "name": "stdout",
     "output_type": "stream",
     "text": [
      "((16, 32, 32, 3), 6, (16, 12))\n"
     ]
    }
   ],
   "source": [
    "test_batches = BatchGenerator(test_set, batch_size)\n",
    "batch = test_batches.next()\n",
    "print(batch[0].shape, len(batch[1]), batch[1][0].shape)"
   ]
  },
  {
   "cell_type": "markdown",
   "metadata": {},
   "source": [
    "Now let's build the model: first, the convolutional layer, and then the (slightly simplified) LSTM cell.\n",
    "Notice that the output of an LSTM cell is used as the input of the subsequent cell intead of using the correct label as the input, a competing architecture."
   ]
  },
  {
   "cell_type": "code",
   "execution_count": 32,
   "metadata": {},
   "outputs": [],
   "source": [
    "conv_patch_size = 5\n",
    "conv_depth = 16\n",
    "conv_num_hidden = 64\n",
    "lstm_num_nodes = 64\n",
    "\n",
    "graph = tf.Graph()\n",
    "\n",
    "with graph.as_default():\n",
    "    # Input data.\n",
    "    train_dataset = tf.placeholder(\n",
    "        tf.float32, shape=(batch_size, image_size, image_size, num_channels))\n",
    "    valid_dataset = tf.placeholder(\n",
    "        tf.float32, shape=(batch_size, image_size, image_size, num_channels))\n",
    "    test_dataset = tf.constant(test_set[0])\n",
    "    go_token = tf.constant(\n",
    "        np.c_[np.zeros((batch_size, vocabulary_size-1)), np.ones(batch_size)], dtype=tf.float32)\n",
    "\n",
    "    # Label data to be used as outputs\n",
    "    train_labels = list()\n",
    "    for _ in range(label_length):\n",
    "        train_labels.append(tf.placeholder(tf.float32, shape=[batch_size,vocabulary_size]))\n",
    "    valid_labels = list()\n",
    "    for _ in range(label_length):\n",
    "        valid_labels.append(tf.placeholder(tf.float32, shape=[batch_size,vocabulary_size]))\n",
    "    \n",
    "    # CNN variables\n",
    "    layer1_weights = tf.Variable(tf.truncated_normal(\n",
    "        [conv_patch_size, conv_patch_size, num_channels, conv_depth], stddev=0.1))\n",
    "    layer1_biases = tf.Variable(tf.zeros([conv_depth]))\n",
    "    layer2_weights = tf.Variable(tf.truncated_normal(\n",
    "        [conv_patch_size, conv_patch_size, conv_depth, conv_depth], stddev=0.1))\n",
    "    layer2_biases = tf.Variable(tf.constant(1.0, shape=[conv_depth]))\n",
    "    layer3_weights = tf.Variable(tf.truncated_normal(\n",
    "        [image_size // 4 * image_size // 4 * conv_depth, conv_num_hidden], stddev=0.1))\n",
    "    layer3_biases = tf.Variable(tf.constant(1.0, shape=[conv_num_hidden]))\n",
    "    layer4_weights = tf.Variable(tf.truncated_normal(\n",
    "        [conv_num_hidden, lstm_num_nodes], stddev=0.1))\n",
    "    layer4_biases = tf.Variable(tf.constant(1.0, shape=[lstm_num_nodes]))\n",
    "\n",
    "    # LSTM variables\n",
    "    # Combined input, output, and bias matrices of the four gates [input, forget, memory, output]\n",
    "    combined_i = tf.Variable(tf.truncated_normal([vocabulary_size, lstm_num_nodes*4], -0.1, 0.1))\n",
    "    combined_o = tf.Variable(tf.truncated_normal([lstm_num_nodes, lstm_num_nodes*4], -0.1, 0.1))\n",
    "    combined_b = tf.Variable(tf.zeros([1, lstm_num_nodes * 4]))\n",
    "    # Variable saving state across unrollings.\n",
    "    saved_output = tf.Variable(tf.zeros([batch_size, lstm_num_nodes]), trainable=False)\n",
    "    # Classifier weights and biases.\n",
    "    w = tf.Variable(tf.truncated_normal([lstm_num_nodes, vocabulary_size], -0.1, 0.1))\n",
    "    b = tf.Variable(tf.zeros([vocabulary_size]))\n",
    "    \n",
    "    # Models\n",
    "    def cnn_model(data):\n",
    "        conv = tf.nn.conv2d(data, layer1_weights, [1, 1, 1, 1], padding='SAME')\n",
    "        hidden = tf.nn.relu(conv + layer1_biases)\n",
    "        pooling = tf.nn.max_pool(hidden, [1, 2, 2, 1], [1, 2, 2, 1], padding='SAME')\n",
    "        conv = tf.nn.conv2d(pooling, layer2_weights, [1, 1, 1, 1], padding='SAME')\n",
    "        hidden = tf.nn.relu(conv + layer2_biases)\n",
    "        pooling = tf.nn.max_pool(hidden, [1, 2, 2, 1], [1, 2, 2, 1], padding='SAME')\n",
    "        shape = pooling.get_shape().as_list()\n",
    "        reshape = tf.reshape(pooling, [shape[0], shape[1] * shape[2] * shape[3]])\n",
    "        hidden = tf.nn.relu(tf.matmul(reshape, layer3_weights) + layer3_biases)\n",
    "        return tf.matmul(hidden, layer4_weights) + layer4_biases\n",
    "\n",
    "    def lstm_cell(i, o, state):\n",
    "        \"\"\"Similar to http://arxiv.org/pdf/1402.1128v1.pdf without various connections\n",
    "        between the previous state and the gates.\"\"\"\n",
    "        input, forget, memory, output = tf.split(\n",
    "            tf.matmul(i, combined_i) + tf.matmul(o, combined_o) + combined_b,\n",
    "            num_or_size_splits=4, axis=1)\n",
    "        input_gate  = tf.sigmoid(input)\n",
    "        forget_gate = tf.sigmoid(forget)\n",
    "        output_gate = tf.sigmoid(output)\n",
    "        state = forget_gate * state + input_gate * tf.tanh(memory)\n",
    "        return output_gate * tf.tanh(state), state\n",
    "    \n",
    "    def crnn_model(input_data):\n",
    "        # Convolutional step\n",
    "        conv_state = cnn_model(input_data)\n",
    "\n",
    "        # Unrolled LSTM loop.\n",
    "        outputs = list()\n",
    "        output = saved_output\n",
    "        state = conv_state\n",
    "        input = go_token\n",
    "        for _ in range(label_length):\n",
    "            output, state = lstm_cell(input, output, state)\n",
    "            outputs.append(output)\n",
    "            # Feed output back to input instead of using corrective inputs\n",
    "            input = tf.nn.xw_plus_b(output, w, b)\n",
    "            # input = sample(tf.nn.softmax(tf.nn.xw_plus_b(sample_output, w, b))) # do we 1-hot inputs?\n",
    "\n",
    "        # Classifier.\n",
    "        logits = tf.nn.xw_plus_b(tf.concat(outputs, 0), w, b)\n",
    "        loss = tf.reduce_mean(\n",
    "            tf.nn.softmax_cross_entropy_with_logits(\n",
    "                labels=tf.concat(train_labels, 0), logits=logits))\n",
    "        \n",
    "        return logits, loss\n",
    "    \n",
    "    # Training loop\n",
    "    train_logits, train_loss = crnn_model(train_dataset)\n",
    "\n",
    "    # Optimizer.\n",
    "    global_step = tf.Variable(0)\n",
    "    learning_rate = tf.train.exponential_decay(10.0, global_step, 5000, 0.1, staircase=True)\n",
    "    optimizer = tf.train.GradientDescentOptimizer(learning_rate)\n",
    "    gradients, v = zip(*optimizer.compute_gradients(train_loss))\n",
    "    gradients, _ = tf.clip_by_global_norm(gradients, 1.25)\n",
    "    optimizer = optimizer.apply_gradients(zip(gradients, v), global_step=global_step)\n",
    "\n",
    "    # Validation loop\n",
    "    valid_logits, _ = crnn_model(valid_dataset)\n",
    "\n",
    "    # Predictions\n",
    "    train_prediction = tf.nn.softmax(train_logits)\n",
    "    valid_prediction = tf.nn.softmax(valid_logits)"
   ]
  }
 ],
 "metadata": {
  "kernelspec": {
   "display_name": "Python 2",
   "language": "python",
   "name": "python2"
  },
  "language_info": {
   "codemirror_mode": {
    "name": "ipython",
    "version": 2
   },
   "file_extension": ".py",
   "mimetype": "text/x-python",
   "name": "python",
   "nbconvert_exporter": "python",
   "pygments_lexer": "ipython2",
   "version": "2.7.12"
  }
 },
 "nbformat": 4,
 "nbformat_minor": 2
}
